{
  "nbformat": 4,
  "nbformat_minor": 0,
  "metadata": {
    "colab": {
      "provenance": [],
      "authorship_tag": "ABX9TyMRaYQDV4tt/kMP5lPllss9",
      "include_colab_link": true
    },
    "kernelspec": {
      "name": "python3",
      "display_name": "Python 3"
    },
    "language_info": {
      "name": "python"
    }
  },
  "cells": [
    {
      "cell_type": "markdown",
      "metadata": {
        "id": "view-in-github",
        "colab_type": "text"
      },
      "source": [
        "<a href=\"https://colab.research.google.com/github/Gordon-4389/Face-Anonymisation-Benchmarking/blob/main/PrelimExp1_2_DeepPrivacy2.ipynb\" target=\"_parent\"><img src=\"https://colab.research.google.com/assets/colab-badge.svg\" alt=\"Open In Colab\"/></a>"
      ]
    },
    {
      "cell_type": "markdown",
      "source": [
        "# DeepPrivacy 2 Initial Tests"
      ],
      "metadata": {
        "id": "fl6fbozxNvNg"
      }
    },
    {
      "cell_type": "markdown",
      "source": [
        "## Installation of Database"
      ],
      "metadata": {
        "id": "zx7yjrAoN0bm"
      }
    },
    {
      "cell_type": "code",
      "execution_count": null,
      "metadata": {
        "id": "xcRBuqyuNfrS"
      },
      "outputs": [],
      "source": []
    }
  ]
}